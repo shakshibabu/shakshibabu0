{
  "nbformat": 4,
  "nbformat_minor": 0,
  "metadata": {
    "colab": {
      "provenance": []
    },
    "kernelspec": {
      "name": "python3",
      "display_name": "Python 3"
    },
    "language_info": {
      "name": "python"
    }
  },
  "cells": [
    {
      "cell_type": "code",
      "execution_count": null,
      "metadata": {
        "id": "KZ45Bo3nKIbI"
      },
      "outputs": [],
      "source": [
        "1) Python?\n",
        " Python is an interpreted, object-oriented, high-level programming language with dynamic semantics developed by Guido van Rossum.\n",
        " It was originally released in 1991. Designed to be easy as well as fun, the name \"Python\" is a nod to the British comedy group Monty Python.\n",
        " Python has a reputation as a beginner-friendly language, replacing Java as the most widely used introductory language\n",
        " because it handles much of the complexity for the user, allowing beginners to focus on fully grasping programming concepts rather than minute details.\n",
        " Python is used for server-side web development, software development, mathematics, and system scripting, and is popular for Rapid Application Development\n",
        "and as a scripting or glue language to tie existing components because of its high-level, built-in data structures, dynamic typing, and dynamic binding."
      ]
    },
    {
      "cell_type": "code",
      "source": [
        "2)create a login function.\n",
        "print('Create User')\n",
        "User_Name = input('Create User_Name\\n')\n",
        "Password = input('Create Password\\n')\n",
        "Enter_User = input('Enter User Name\\n')\n",
        "Enter_Password=input('Enter the Password\\n')\n",
        "if User_Name == Enter_User and Password == Enter_Password:\n",
        "    print(\"Successfully Login\")\n",
        "else:\n",
        "    print('Incorrect Username or Password')"
      ],
      "metadata": {
        "colab": {
          "base_uri": "https://localhost:8080/"
        },
        "id": "QQw43tNHPoVu",
        "outputId": "32abb06c-454f-409d-98c0-7668a2159575"
      },
      "execution_count": null,
      "outputs": [
        {
          "output_type": "stream",
          "name": "stdout",
          "text": [
            "Create User\n",
            "Create User_Name\n",
            "shakshi\n",
            "Create Password\n",
            "shakshi@1566\n",
            "Enter User Name\n",
            "shakshi\n",
            "Enter the Password\n",
            "shakshi1566\n",
            "Incorrect Username or Password\n"
          ]
        }
      ]
    },
    {
      "cell_type": "code",
      "source": [
        "3)odd or even?\n",
        "print('Find the odd or Even')\n",
        "Type_Number = int(input('Enter the number\\n'))\n",
        "if Type_Number % 2 == 0:\n",
        " print(\"its even number\")\n",
        "else:\n",
        "     print(\"its odd number\")"
      ],
      "metadata": {
        "colab": {
          "base_uri": "https://localhost:8080/"
        },
        "id": "oHGMYUZ7TfUH",
        "outputId": "2f89ddb7-ccb4-4c27-cf30-761d7f42847e"
      },
      "execution_count": null,
      "outputs": [
        {
          "output_type": "stream",
          "name": "stdout",
          "text": [
            "Find the odd or Even\n",
            "Enter the number\n",
            "69\n",
            "its odd number\n"
          ]
        }
      ]
    },
    {
      "cell_type": "code",
      "source": [
        "4) Create a list of fruits and iterate through them\n",
        "\n",
        "print('List of Fruits')\n",
        "Fruits={'banana','starfruit','mango','pears','banana','apple','jackfruit','watermelon'}\n",
        "for x in Fruits:\n",
        "    print(x)"
      ],
      "metadata": {
        "colab": {
          "base_uri": "https://localhost:8080/"
        },
        "id": "IJ-_xwGyT0A_",
        "outputId": "e94102e4-f9d1-424c-f36c-0ee31c422191"
      },
      "execution_count": null,
      "outputs": [
        {
          "output_type": "stream",
          "name": "stdout",
          "text": [
            "List of Fruits\n",
            "apple\n",
            "pears\n",
            "jackfruit\n",
            "starfruit\n",
            "watermelon\n",
            "mango\n",
            "banana\n"
          ]
        }
      ]
    }
  ]
}